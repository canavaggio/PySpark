{
 "cells": [
  {
   "cell_type": "markdown",
   "metadata": {},
   "source": [
    "### The goal of this notebook is to predict whether a customer would be interested in Vehicle Insurance \n",
    "\n",
    "##### The data is as follows:\n",
    "\n",
    "* `id` — Unique ID for the customer\n",
    "* `Gender` — Gender of the customer\n",
    "* `Age` —  Age of the customer\n",
    "* `Driving_License` — 0 : Customer does not have DL, 1 : Customer already has DL\n",
    "* `Region_Code` — Unique code for the region of the customer\n",
    "* `Previously_Insured` — 1 : Customer already has Vehicle Insurance, 0 : Customer doesn't have Vehicle Insurance\n",
    "* `Vehicle_Age` — Age of the Vehicle\n",
    "* `Vehicle_Damage` — 1 : Customer got his/her vehicle damaged in the past. 0 : Customer didn't get his/her vehicle damaged in the past.\n",
    "* `Annual_Premium` — The amount customer needs to pay as premium in the year\n",
    "* `PolicySalesChannel` — Anonymized Code for the channel of outreaching to the customer ie. Different Agents, Over Mail, Over Phone, In Person, etc.\n",
    "* `Vintage` — Number of Days, Customer has been associated with the company\n",
    "* `Response` — 1 : Customer is interested, 0 : Customer is not interested\n"
   ]
  },
  {
   "cell_type": "code",
   "execution_count": 1,
   "metadata": {},
   "outputs": [],
   "source": [
    "## set up  SparkSession\n",
    "##  A SparkSession can be used create DataFrame, register DataFrame as tables, execute SQL over tables, \n",
    "## cache tables, and read parquet files. \n",
    "\n",
    "from pyspark.sql import SparkSession\n",
    "\n",
    "spark = SparkSession \\\n",
    "    .builder \\\n",
    "    .appName(\"Distributed big data project / PySpark\") \\\n",
    "    .config(\"spark.some.config.option\", \"some-value\") \\\n",
    "    .getOrCreate()"
   ]
  },
  {
   "cell_type": "markdown",
   "metadata": {},
   "source": [
    "### Set up SparkSession  [doc](https://spark.apache.org/docs/latest/sql-getting-started.html#starting-point-sparksession)"
   ]
  },
  {
   "cell_type": "code",
   "execution_count": 2,
   "metadata": {},
   "outputs": [
    {
     "data": {
      "text/html": [
       "\n",
       "            <div>\n",
       "                <p><b>SparkSession - in-memory</b></p>\n",
       "                \n",
       "        <div>\n",
       "            <p><b>SparkContext</b></p>\n",
       "\n",
       "            <p><a href=\"http://192.168.1.15:4040\">Spark UI</a></p>\n",
       "\n",
       "            <dl>\n",
       "              <dt>Version</dt>\n",
       "                <dd><code>v3.0.1</code></dd>\n",
       "              <dt>Master</dt>\n",
       "                <dd><code>local[*]</code></dd>\n",
       "              <dt>AppName</dt>\n",
       "                <dd><code>Distributed big data project / PySpark</code></dd>\n",
       "            </dl>\n",
       "        </div>\n",
       "        \n",
       "            </div>\n",
       "        "
      ],
      "text/plain": [
       "<pyspark.sql.session.SparkSession at 0x7f6f4d183a00>"
      ]
     },
     "execution_count": 2,
     "metadata": {},
     "output_type": "execute_result"
    }
   ],
   "source": [
    "spark"
   ]
  },
  {
   "cell_type": "markdown",
   "metadata": {},
   "source": [
    "### Loading Data"
   ]
  },
  {
   "cell_type": "code",
   "execution_count": 3,
   "metadata": {},
   "outputs": [
    {
     "name": "stdout",
     "output_type": "stream",
     "text": [
      "+---+------+---+---------------+-----------+------------------+-----------+--------------+--------------+--------------------+-------+--------+\n",
      "| id|Gender|Age|Driving_License|Region_Code|Previously_Insured|Vehicle_Age|Vehicle_Damage|Annual_Premium|Policy_Sales_Channel|Vintage|Response|\n",
      "+---+------+---+---------------+-----------+------------------+-----------+--------------+--------------+--------------------+-------+--------+\n",
      "|  1|  Male| 44|              1|       28.0|                 0|  > 2 Years|           Yes|       40454.0|                26.0|    217|       1|\n",
      "|  2|  Male| 76|              1|        3.0|                 0|   1-2 Year|            No|       33536.0|                26.0|    183|       0|\n",
      "|  3|  Male| 47|              1|       28.0|                 0|  > 2 Years|           Yes|       38294.0|                26.0|     27|       1|\n",
      "|  4|  Male| 21|              1|       11.0|                 1|   < 1 Year|            No|       28619.0|               152.0|    203|       0|\n",
      "|  5|Female| 29|              1|       41.0|                 1|   < 1 Year|            No|       27496.0|               152.0|     39|       0|\n",
      "+---+------+---+---------------+-----------+------------------+-----------+--------------+--------------+--------------------+-------+--------+\n",
      "only showing top 5 rows\n",
      "\n",
      "root\n",
      " |-- id: integer (nullable = true)\n",
      " |-- Gender: string (nullable = true)\n",
      " |-- Age: integer (nullable = true)\n",
      " |-- Driving_License: integer (nullable = true)\n",
      " |-- Region_Code: double (nullable = true)\n",
      " |-- Previously_Insured: integer (nullable = true)\n",
      " |-- Vehicle_Age: string (nullable = true)\n",
      " |-- Vehicle_Damage: string (nullable = true)\n",
      " |-- Annual_Premium: double (nullable = true)\n",
      " |-- Policy_Sales_Channel: double (nullable = true)\n",
      " |-- Vintage: integer (nullable = true)\n",
      " |-- Response: integer (nullable = true)\n",
      "\n"
     ]
    }
   ],
   "source": [
    "## loading the data \n",
    "df = spark.read.load(\"/home/charles/M1/distribured-bigdata-system/project/data/train.csv\",\n",
    "                     format=\"csv\",\n",
    "                     sep=\",\", \n",
    "                     inferSchema=\"true\",\n",
    "                     header=\"true\")\n",
    "df.show(5)\n",
    "df.printSchema()"
   ]
  },
  {
   "cell_type": "markdown",
   "metadata": {},
   "source": [
    "### Data exploration"
   ]
  },
  {
   "cell_type": "code",
   "execution_count": 4,
   "metadata": {},
   "outputs": [],
   "source": [
    "df = df.dropna(how='any') # first let's drop the NA value"
   ]
  },
  {
   "cell_type": "code",
   "execution_count": 5,
   "metadata": {},
   "outputs": [
    {
     "name": "stdout",
     "output_type": "stream",
     "text": [
      "root\n",
      " |-- Gender: string (nullable = true)\n",
      " |-- Age: integer (nullable = true)\n",
      " |-- Driving_License: integer (nullable = true)\n",
      " |-- Region_Code: double (nullable = true)\n",
      " |-- Previously_Insured: integer (nullable = true)\n",
      " |-- Vehicle_Age: string (nullable = true)\n",
      " |-- Vehicle_Damage: string (nullable = true)\n",
      " |-- Annual_Premium: double (nullable = true)\n",
      " |-- Vintage: integer (nullable = true)\n",
      " |-- Response: integer (nullable = true)\n",
      "\n"
     ]
    }
   ],
   "source": [
    "# The column id is not revelant  is just the identifer user. Let's drop it. \n",
    "\n",
    "df = df.select('Gender',\n",
    "               'Age',\n",
    "               'Driving_License',\n",
    "               'Region_Code',\n",
    "               'Previously_Insured',\n",
    "               'Vehicle_Age',\n",
    "               'Vehicle_Damage',\n",
    "               'Annual_Premium',\n",
    "               'Vintage',\n",
    "               'Response')\n",
    "\n",
    "cols = df.columns\n",
    "df.printSchema()"
   ]
  },
  {
   "cell_type": "markdown",
   "metadata": {},
   "source": [
    "##### Perform descriptive analytics"
   ]
  },
  {
   "cell_type": "code",
   "execution_count": 6,
   "metadata": {},
   "outputs": [
    {
     "name": "stdout",
     "output_type": "stream",
     "text": [
      "+-------+------------------+------------------+------------------+\n",
      "|summary|               Age|    Annual_Premium|           Vintage|\n",
      "+-------+------------------+------------------+------------------+\n",
      "|  count|            381109|            381109|            381109|\n",
      "|   mean|38.822583565331705|30564.389581458323|154.34739667654136|\n",
      "| stddev|15.511611018095321|17213.155056980126|  83.6713036265871|\n",
      "|    min|                20|            2630.0|                10|\n",
      "|    max|                85|          540165.0|               299|\n",
      "+-------+------------------+------------------+------------------+\n",
      "\n"
     ]
    }
   ],
   "source": [
    "df.select('Age',\n",
    "          'Annual_Premium',\n",
    "          'Vintage',\n",
    "         ).describe().show()"
   ]
  },
  {
   "cell_type": "code",
   "execution_count": 7,
   "metadata": {},
   "outputs": [
    {
     "name": "stdout",
     "output_type": "stream",
     "text": [
      "+-------+------+-------------------+------------------+------------------+-----------+--------------+\n",
      "|summary|Gender|    Driving_License|       Region_Code|Previously_Insured|Vehicle_Age|Vehicle_Damage|\n",
      "+-------+------+-------------------+------------------+------------------+-----------+--------------+\n",
      "|  count|381109|             381109|            381109|            381109|     381109|        381109|\n",
      "|   mean|  null| 0.9978693759528114|26.388807401557035|0.4582101183650871|       null|          null|\n",
      "| stddev|  null|0.04610954420779957|13.229888025788474| 0.498251198887226|       null|          null|\n",
      "|    min|Female|                  0|               0.0|                 0|   1-2 Year|            No|\n",
      "|    max|  Male|                  1|              52.0|                 1|  > 2 Years|           Yes|\n",
      "+-------+------+-------------------+------------------+------------------+-----------+--------------+\n",
      "\n"
     ]
    }
   ],
   "source": [
    "df.select('Gender',\n",
    "          'Driving_License',\n",
    "          'Region_Code',\n",
    "          'Previously_Insured',\n",
    "          'Vehicle_Age',\n",
    "          'Vehicle_Damage',\n",
    "         ).describe().show()"
   ]
  },
  {
   "cell_type": "code",
   "execution_count": 8,
   "metadata": {},
   "outputs": [],
   "source": [
    "df_pd = df.toPandas()"
   ]
  },
  {
   "cell_type": "code",
   "execution_count": 9,
   "metadata": {},
   "outputs": [],
   "source": [
    "import matplotlib.pyplot as plt\n",
    "import numpy as np"
   ]
  },
  {
   "cell_type": "code",
   "execution_count": 36,
   "metadata": {},
   "outputs": [
    {
     "data": {
      "image/png": "[encoded data removed]",
      "text/plain": [
       "<Figure size 432x288 with 1 Axes>"
      ]
     },
     "metadata": {
      "needs_background": "light"
     },
     "output_type": "display_data"
    },
    {
     "name": "stdout",
     "output_type": "stream",
     "text": [
      "total amount of customer interested in a vehicule insurance, (label 1) 46710\n",
      "total amount of customer not interested in a vehicule insurance (label 0) 334399\n"
     ]
    }
   ],
   "source": [
    "occurences = df_pd['Response'].value_counts()\n",
    "x = np.arange(2)\n",
    "\n",
    "fig, ax = plt.subplots()\n",
    "plt.bar(x, occurences)\n",
    "plt.xticks(x, ('0','1'))\n",
    "plt.title('classes repartition')\n",
    "plt.show()\n",
    "print('total amount of customer interested in a vehicule insurance, (label 1)', occurences[1])\n",
    "print('total amount of customer not interested in a vehicule insurance (label 0)', occurences[0])"
   ]
  },
  {
   "cell_type": "markdown",
   "metadata": {},
   "source": [
    "As we can see above, our response variable is imbalanced. There are several way to deal with imbalanced data. Such as oversampling, undersampling, collecting more data, weight classes. In this notebook, weighted classes will be implement."
   ]
  },
  {
   "cell_type": "markdown",
   "metadata": {},
   "source": [
    "### Extracting, transforming and selecting features [doc](https://spark.apache.org/docs/latest/ml-features.html)"
   ]
  },
  {
   "cell_type": "code",
   "execution_count": 11,
   "metadata": {},
   "outputs": [],
   "source": [
    "from pyspark.ml.feature import OneHotEncoder, StringIndexer, VectorAssembler\n",
    "\n",
    "# categoricalColumns contain all the feature encode as string\n",
    "categoricalColumns = ['Gender',\n",
    "                      'Driving_License',\n",
    "                      'Region_Code',\n",
    "                      'Previously_Insured',\n",
    "                      'Vehicle_Age',\n",
    "                      'Vehicle_Damage',\n",
    "                     ]\n",
    "\n",
    "stages = [] # empty list\n",
    "\n",
    "for categoricalCol in categoricalColumns :\n",
    "    \n",
    "    # StringIndexer encodes a string column of labels to a column of label indices\n",
    "    # If the input column is numeric, StringIndexer cast it to string and index the string values\n",
    "    stringIndexer = StringIndexer(\n",
    "        inputCol = categoricalCol, \n",
    "        outputCol = categoricalCol + '_Index'\n",
    "    ) # indexer\n",
    "    \n",
    "    # One-hot encoding maps a categorical feature, represented as a label index, to a binary vector with at most a \n",
    "    # single one-value indicating the presence of a specific feature value from among the set of all feature values.\n",
    "    encoder = OneHotEncoder(\n",
    "        inputCols=[stringIndexer.getOutputCol()],\n",
    "        outputCols=[categoricalCol + \"_classVec\"]\n",
    "    )\n",
    "    \n",
    "    stages += [stringIndexer, encoder]\n",
    "\n",
    "label_stringIdx = StringIndexer(inputCol = 'Response', outputCol = 'label') \n",
    "\n",
    "stages += [label_stringIdx]"
   ]
  },
  {
   "cell_type": "code",
   "execution_count": 12,
   "metadata": {},
   "outputs": [],
   "source": [
    "numericCols = ['Age','Annual_Premium','Vintage']\n",
    "\n",
    "assemblerInputs = [c + \"_classVec\" for c in categoricalColumns] + numericCols\n",
    "\n",
    "# VectorAssembler is a transformer that combines a given list of columns into a single vector column.\n",
    "# VectorAssembler accepts the following input column types: all numeric types, boolean type, and vector type.\n",
    "assembler = VectorAssembler(inputCols = assemblerInputs, outputCol = 'features')\n",
    "\n",
    "stages += [assembler]"
   ]
  },
  {
   "cell_type": "markdown",
   "metadata": {},
   "source": [
    "### Pipeline [doc](https://spark.apache.org/docs/latest/ml-pipeline.html)"
   ]
  },
  {
   "cell_type": "code",
   "execution_count": 13,
   "metadata": {},
   "outputs": [
    {
     "name": "stdout",
     "output_type": "stream",
     "text": [
      "root\n",
      " |-- label: double (nullable = false)\n",
      " |-- features: vector (nullable = true)\n",
      " |-- Gender: string (nullable = true)\n",
      " |-- Age: integer (nullable = true)\n",
      " |-- Driving_License: integer (nullable = true)\n",
      " |-- Region_Code: double (nullable = true)\n",
      " |-- Previously_Insured: integer (nullable = true)\n",
      " |-- Vehicle_Age: string (nullable = true)\n",
      " |-- Vehicle_Damage: string (nullable = true)\n",
      " |-- Annual_Premium: double (nullable = true)\n",
      " |-- Vintage: integer (nullable = true)\n",
      " |-- Response: integer (nullable = true)\n",
      "\n"
     ]
    }
   ],
   "source": [
    "from pyspark.ml import Pipeline\n",
    "\n",
    "pipeline = Pipeline(stages = stages)\n",
    "\n",
    "pipelineModel = pipeline.fit(df)\n",
    "\n",
    "df = pipelineModel.transform(df)\n",
    "\n",
    "selectedCols = ['label', 'features'] + cols\n",
    "df = df.select(selectedCols)\n",
    "df.printSchema()"
   ]
  },
  {
   "cell_type": "markdown",
   "metadata": {},
   "source": [
    "### Weighted column"
   ]
  },
  {
   "cell_type": "code",
   "execution_count": 14,
   "metadata": {},
   "outputs": [],
   "source": [
    "from pyspark.sql.functions import when,col\n",
    "\n",
    "ratio = 334399/(334399 + 46710)\n",
    "\n",
    "def weight_balance(labels):\n",
    "    return when(labels == 1, ratio).otherwise(1*(1-ratio))"
   ]
  },
  {
   "cell_type": "code",
   "execution_count": 15,
   "metadata": {},
   "outputs": [],
   "source": [
    "df = df.withColumn('weights', weight_balance(col('Response')))"
   ]
  },
  {
   "cell_type": "code",
   "execution_count": 16,
   "metadata": {},
   "outputs": [
    {
     "name": "stdout",
     "output_type": "stream",
     "text": [
      "+-----+--------------------+------+---+---------------+-----------+------------------+-----------+--------------+--------------+-------+--------+-------------------+\n",
      "|label|            features|Gender|Age|Driving_License|Region_Code|Previously_Insured|Vehicle_Age|Vehicle_Damage|Annual_Premium|Vintage|Response|            weights|\n",
      "+-----+--------------------+------+---+---------------+-----------+------------------+-----------+--------------+--------------+-------+--------+-------------------+\n",
      "|  1.0|(61,[0,1,2,54,57,...|  Male| 44|              1|       28.0|                 0|  > 2 Years|           Yes|       40454.0|    217|       1|  0.877436638861848|\n",
      "|  0.0|(61,[0,1,10,54,55...|  Male| 76|              1|        3.0|                 0|   1-2 Year|            No|       33536.0|    183|       0|0.12256336113815203|\n",
      "|  1.0|(61,[0,1,2,54,57,...|  Male| 47|              1|       28.0|                 0|  > 2 Years|           Yes|       38294.0|     27|       1|  0.877436638861848|\n",
      "|  0.0|(61,[0,1,11,56,58...|  Male| 21|              1|       11.0|                 1|   < 1 Year|            No|       28619.0|    203|       0|0.12256336113815203|\n",
      "|  0.0|(61,[1,5,56,58,59...|Female| 29|              1|       41.0|                 1|   < 1 Year|            No|       27496.0|     39|       0|0.12256336113815203|\n",
      "+-----+--------------------+------+---+---------------+-----------+------------------+-----------+--------------+--------------+-------+--------+-------------------+\n",
      "only showing top 5 rows\n",
      "\n"
     ]
    }
   ],
   "source": [
    "df.show(5)"
   ]
  },
  {
   "cell_type": "markdown",
   "metadata": {},
   "source": [
    "### Splitting the data for training and testing"
   ]
  },
  {
   "cell_type": "code",
   "execution_count": 17,
   "metadata": {},
   "outputs": [],
   "source": [
    "train, test = df.randomSplit([0.7, 0.3], seed = 2018)"
   ]
  },
  {
   "cell_type": "markdown",
   "metadata": {},
   "source": [
    "### Classification "
   ]
  },
  {
   "cell_type": "markdown",
   "metadata": {},
   "source": [
    "### Decision Tree Classifier  [doc](https://spark.apache.org/docs/latest/ml-classification-regression.html#decision-tree-classifier)"
   ]
  },
  {
   "cell_type": "markdown",
   "metadata": {},
   "source": [
    "Let implement two models. For each model, one will be implement without weight and one with weight. For the cross-validation optimization, only the weighted model will be implement."
   ]
  },
  {
   "cell_type": "markdown",
   "metadata": {},
   "source": [
    "#### regular classifier without weight column"
   ]
  },
  {
   "cell_type": "code",
   "execution_count": 18,
   "metadata": {},
   "outputs": [
    {
     "name": "stdout",
     "output_type": "stream",
     "text": [
      "+---+------------------+-----+----------------+----------+--------------------+\n",
      "|Age|Previously_Insured|label|   rawPrediction|prediction|         probability|\n",
      "+---+------------------+-----+----------------+----------+--------------------+\n",
      "| 20|                 0|  0.0|   [474.0,102.0]|       0.0|[0.82291666666666...|\n",
      "| 21|                 0|  0.0|   [474.0,102.0]|       0.0|[0.82291666666666...|\n",
      "| 21|                 0|  0.0|   [474.0,102.0]|       0.0|[0.82291666666666...|\n",
      "| 21|                 0|  0.0|   [474.0,102.0]|       0.0|[0.82291666666666...|\n",
      "| 21|                 0|  0.0|   [474.0,102.0]|       0.0|[0.82291666666666...|\n",
      "| 21|                 0|  0.0|   [474.0,102.0]|       0.0|[0.82291666666666...|\n",
      "| 21|                 0|  0.0|   [474.0,102.0]|       0.0|[0.82291666666666...|\n",
      "| 22|                 0|  0.0|[16904.0,2816.0]|       0.0|[0.85720081135902...|\n",
      "| 22|                 0|  0.0|[16904.0,2816.0]|       0.0|[0.85720081135902...|\n",
      "| 22|                 0|  0.0|[16904.0,2816.0]|       0.0|[0.85720081135902...|\n",
      "+---+------------------+-----+----------------+----------+--------------------+\n",
      "only showing top 10 rows\n",
      "\n"
     ]
    }
   ],
   "source": [
    "from pyspark.ml.classification import DecisionTreeClassifier\n",
    "\n",
    "dt = DecisionTreeClassifier(featuresCol = 'features', labelCol = 'label', maxDepth = 6)\n",
    "\n",
    "\n",
    "dtModel = dt.fit(train)\n",
    "\n",
    "predictions = dtModel.transform(test)\n",
    "\n",
    "predictions.select('Age', 'Previously_Insured', 'label', 'rawPrediction', 'prediction', 'probability').show(10)"
   ]
  },
  {
   "cell_type": "markdown",
   "metadata": {},
   "source": [
    "#### classifier with weight column"
   ]
  },
  {
   "cell_type": "code",
   "execution_count": 19,
   "metadata": {},
   "outputs": [
    {
     "name": "stdout",
     "output_type": "stream",
     "text": [
      "+---+------------------+-----+--------------------+----------+--------------------+\n",
      "|Age|Previously_Insured|label|       rawPrediction|prediction|         probability|\n",
      "+---+------------------+-----+--------------------+----------+--------------------+\n",
      "| 20|                 0|  0.0|[58.4627232628984...|       1.0|[0.38596642636532...|\n",
      "| 21|                 0|  0.0|[58.4627232628984...|       1.0|[0.38596642636532...|\n",
      "| 21|                 0|  0.0|[58.4627232628984...|       1.0|[0.38596642636532...|\n",
      "| 21|                 0|  0.0|[58.4627232628984...|       1.0|[0.38596642636532...|\n",
      "| 21|                 0|  0.0|[58.4627232628984...|       1.0|[0.38596642636532...|\n",
      "| 21|                 0|  0.0|[58.4627232628984...|       1.0|[0.38596642636532...|\n",
      "| 21|                 0|  0.0|[58.4627232628984...|       1.0|[0.38596642636532...|\n",
      "| 22|                 0|  0.0|[1750.44992377507...|       1.0|[0.45247843715217...|\n",
      "| 22|                 0|  0.0|[1750.44992377507...|       1.0|[0.45247843715217...|\n",
      "| 22|                 0|  0.0|[1750.44992377507...|       1.0|[0.45247843715217...|\n",
      "+---+------------------+-----+--------------------+----------+--------------------+\n",
      "only showing top 10 rows\n",
      "\n"
     ]
    }
   ],
   "source": [
    "from pyspark.ml.classification import DecisionTreeClassifier\n",
    "\n",
    "dt_weight = DecisionTreeClassifier(featuresCol = 'features', labelCol = 'label', maxDepth = 6, weightCol='weights')\n",
    "\n",
    "\n",
    "dt_weight_Model = dt_weight.fit(train)\n",
    "\n",
    "predictions_weight = dt_weight_Model.transform(test)\n",
    "\n",
    "predictions_weight.select('Age', 'Previously_Insured', 'label', 'rawPrediction', 'prediction', 'probability').show(10)"
   ]
  },
  {
   "cell_type": "code",
   "execution_count": 20,
   "metadata": {},
   "outputs": [],
   "source": [
    "from pyspark.ml.evaluation import BinaryClassificationEvaluator"
   ]
  },
  {
   "cell_type": "code",
   "execution_count": 37,
   "metadata": {},
   "outputs": [
    {
     "name": "stdout",
     "output_type": "stream",
     "text": [
      "Test Area Under ROC for the regular classifier : 0.8245911019324608\n",
      "Test Area Under ROC for weighted classifier : 0.8305248547546038\n"
     ]
    }
   ],
   "source": [
    "evaluator = BinaryClassificationEvaluator()\n",
    "print(\"Test Area Under ROC for the regular classifier : \" + str(evaluator.evaluate(predictions, {evaluator.metricName: \"areaUnderROC\"})))\n",
    "print(\"Test Area Under ROC for weighted classifier : \" + str(evaluator.evaluate(predictions_weight, {evaluator.metricName: \"areaUnderROC\"})))"
   ]
  },
  {
   "cell_type": "markdown",
   "metadata": {},
   "source": [
    "We can say that our model are pretty equivalent, cause they have really close Area Under ROC. Bet let's go deeper with confusion matrix."
   ]
  },
  {
   "cell_type": "code",
   "execution_count": 26,
   "metadata": {},
   "outputs": [
    {
     "name": "stdout",
     "output_type": "stream",
     "text": [
      "(<Figure size 432x288 with 1 Axes>, <AxesSubplot:xlabel='predicted label', ylabel='true label'>)\n"
     ]
    },
    {
     "data": {
      "text/plain": [
       "(<Figure size 432x288 with 1 Axes>,\n",
       " <AxesSubplot:xlabel='predicted label', ylabel='true label'>)"
      ]
     },
     "execution_count": 26,
     "metadata": {},
     "output_type": "execute_result"
    },
    {
     "data": {
      "image/png": "[encoded data removed]",
      "text/plain": [
       "<Figure size 432x288 with 1 Axes>"
      ]
     },
     "metadata": {
      "needs_background": "light"
     },
     "output_type": "display_data"
    },
    {
     "data": {
      "image/png": "[encoded data removed]",
      "text/plain": [
       "<Figure size 432x288 with 1 Axes>"
      ]
     },
     "metadata": {
      "needs_background": "light"
     },
     "output_type": "display_data"
    }
   ],
   "source": [
    "from sklearn.metrics import confusion_matrix\n",
    "from sklearn.metrics import confusion_matrix, classification_report\n",
    "from mlxtend.plotting import plot_confusion_matrix\n",
    "\n",
    "predictions_pd = predictions.toPandas()\n",
    "predictions_weight_pd = predictions_weight.toPandas()\n",
    "\n",
    "plot_confusion_matrix(confusion_matrix(predictions_pd['label'],predictions_pd['prediction']))\n",
    "\n",
    "plot_confusion_matrix(confusion_matrix(predictions_weight_pd['label'],predictions_weight_pd['prediction']))"
   ]
  },
  {
   "cell_type": "markdown",
   "metadata": {},
   "source": [
    "Despite a close area under the ROC for both classifier, the regular classifier only detect one true positive, wereas the weighted model detect 13425 true positive. This mean that the first model is not consistent at all, cause it actually do not answer to the purpose of this notebook which is to predit if a customer would be interesting in a vehicule insurance. Let also consider that, the weighted model predict more false positive than the regular one, but it is still more interesting. "
   ]
  },
  {
   "cell_type": "markdown",
   "metadata": {},
   "source": [
    "### Optimisation using Cross-Validation [doc](https://spark.apache.org/docs/latest/ml-tuning.html#cross-validation)"
   ]
  },
  {
   "cell_type": "code",
   "execution_count": 48,
   "metadata": {},
   "outputs": [
    {
     "name": "stdout",
     "output_type": "stream",
     "text": [
      "Test Area Under ROC: 0.82998207998208\n"
     ]
    }
   ],
   "source": [
    "from pyspark.ml.tuning import ParamGridBuilder, CrossValidator\n",
    "\n",
    "paramGrid = (ParamGridBuilder()\n",
    "             .addGrid(dt_weight.impurity, ['gini','entropy'])\n",
    "             .addGrid(dt_weight.maxDepth, [5, 6, 10])\n",
    "             .addGrid(dt_weight.minInfoGain, [0.0, 0.2, 0.3])\n",
    "             .addGrid(dt_weight.minInstancesPerNode, [1, 2])\n",
    "            ).build()\n",
    "\n",
    "\n",
    "cv = CrossValidator(estimator=dt_weight,\n",
    "                    estimatorParamMaps=paramGrid,\n",
    "                    evaluator=evaluator,\n",
    "                    numFolds=5)\n",
    "\n",
    "# Run cross-validation, and choose the best set of parameters.\n",
    "cvmodel = cv.fit(train)\n",
    "\n",
    "# Make predictions on test data. cvModel uses the best model found.\n",
    "pred = cvmodel.transform(test)\n",
    "\n",
    "print(\"Test Area Under ROC: \" + str(evaluator.evaluate(pred, {evaluator.metricName: \"areaUnderROC\"})))"
   ]
  },
  {
   "cell_type": "code",
   "execution_count": 49,
   "metadata": {},
   "outputs": [
    {
     "data": {
      "text/plain": [
       "(<Figure size 432x288 with 1 Axes>,\n",
       " <AxesSubplot:xlabel='predicted label', ylabel='true label'>)"
      ]
     },
     "execution_count": 49,
     "metadata": {},
     "output_type": "execute_result"
    },
    {
     "data": {
      "image/png": "[encoded data removed]",
      "text/plain": [
       "<Figure size 432x288 with 1 Axes>"
      ]
     },
     "metadata": {
      "needs_background": "light"
     },
     "output_type": "display_data"
    }
   ],
   "source": [
    "predictions_pd = pred.toPandas()\n",
    "plot_confusion_matrix(confusion_matrix(predictions_pd['label'],predictions_pd['prediction']))"
   ]
  },
  {
   "cell_type": "markdown",
   "metadata": {},
   "source": [
    "### Random Forest Classifier [doc](https://spark.apache.org/docs/latest/ml-classification-regression.html#random-forest-classifier)"
   ]
  },
  {
   "cell_type": "markdown",
   "metadata": {},
   "source": [
    "As the previous classifier, two models will be implement. One will be implement without weight and one with weight. For the cross-validation optimization, only the weighted model will be implement."
   ]
  },
  {
   "cell_type": "markdown",
   "metadata": {},
   "source": [
    "#### regular classifier without weight column"
   ]
  },
  {
   "cell_type": "code",
   "execution_count": 50,
   "metadata": {},
   "outputs": [
    {
     "name": "stdout",
     "output_type": "stream",
     "text": [
      "+---+------------------+-----+--------------------+----------+--------------------+\n",
      "|Age|Previously_Insured|label|       rawPrediction|prediction|         probability|\n",
      "+---+------------------+-----+--------------------+----------+--------------------+\n",
      "| 20|                 0|  0.0|[86.6805874896661...|       0.0|[0.86680587489666...|\n",
      "| 21|                 0|  0.0|[86.6805874896661...|       0.0|[0.86680587489666...|\n",
      "| 21|                 0|  0.0|[86.6805874896661...|       0.0|[0.86680587489666...|\n",
      "| 21|                 0|  0.0|[86.6805874896661...|       0.0|[0.86680587489666...|\n",
      "| 21|                 0|  0.0|[86.6259461225628...|       0.0|[0.86625946122562...|\n",
      "| 21|                 0|  0.0|[86.6259461225628...|       0.0|[0.86625946122562...|\n",
      "| 21|                 0|  0.0|[86.6259461225628...|       0.0|[0.86625946122562...|\n",
      "| 22|                 0|  0.0|[86.6805874896661...|       0.0|[0.86680587489666...|\n",
      "| 22|                 0|  0.0|[86.6805874896661...|       0.0|[0.86680587489666...|\n",
      "| 22|                 0|  0.0|[86.6805874896661...|       0.0|[0.86680587489666...|\n",
      "| 22|                 0|  0.0|[86.6805874896661...|       0.0|[0.86680587489666...|\n",
      "| 22|                 0|  0.0|[86.6259461225628...|       0.0|[0.86625946122562...|\n",
      "| 22|                 0|  0.0|[86.6259461225628...|       0.0|[0.86625946122562...|\n",
      "| 22|                 0|  0.0|[86.6259461225628...|       0.0|[0.86625946122562...|\n",
      "| 23|                 0|  0.0|[86.6805874896661...|       0.0|[0.86680587489666...|\n",
      "| 24|                 0|  0.0|[86.6259461225628...|       0.0|[0.86625946122562...|\n",
      "| 24|                 0|  0.0|[86.6259461225628...|       0.0|[0.86625946122562...|\n",
      "| 25|                 0|  0.0|[86.6805874896661...|       0.0|[0.86680587489666...|\n",
      "| 25|                 0|  0.0|[86.6805874896661...|       0.0|[0.86680587489666...|\n",
      "| 25|                 0|  0.0|[86.6259461225628...|       0.0|[0.86625946122562...|\n",
      "+---+------------------+-----+--------------------+----------+--------------------+\n",
      "only showing top 20 rows\n",
      "\n"
     ]
    }
   ],
   "source": [
    "from pyspark.ml.classification import RandomForestClassifier\n",
    "\n",
    "# Train a RandomForest model.\n",
    "rf = RandomForestClassifier(labelCol=\"label\", featuresCol=\"features\", numTrees=100)\n",
    "\n",
    "rf_model = rf.fit(train)\n",
    "\n",
    "# Make predictions.\n",
    "rf_predictions = rf_model.transform(test)\n",
    "\n",
    "# Select example rows to display.\n",
    "rf_predictions.select('Age', 'Previously_Insured', 'label', 'rawPrediction', 'prediction', 'probability').show()\n"
   ]
  },
  {
   "cell_type": "markdown",
   "metadata": {},
   "source": [
    "#### classifier with weight column"
   ]
  },
  {
   "cell_type": "code",
   "execution_count": 51,
   "metadata": {},
   "outputs": [
    {
     "name": "stdout",
     "output_type": "stream",
     "text": [
      "+---+------------------+-----+--------------------+----------+--------------------+\n",
      "|Age|Previously_Insured|label|       rawPrediction|prediction|         probability|\n",
      "+---+------------------+-----+--------------------+----------+--------------------+\n",
      "| 20|                 0|  0.0|[35.8407473579595...|       1.0|[0.35840747357959...|\n",
      "| 21|                 0|  0.0|[35.7333327164629...|       1.0|[0.35733332716462...|\n",
      "| 21|                 0|  0.0|[35.7957528199393...|       1.0|[0.35795752819939...|\n",
      "| 21|                 0|  0.0|[35.8407473579595...|       1.0|[0.35840747357959...|\n",
      "| 21|                 0|  0.0|[35.8882115692646...|       1.0|[0.35888211569264...|\n",
      "| 21|                 0|  0.0|[36.4446826464323...|       1.0|[0.36444682646432...|\n",
      "| 21|                 0|  0.0|[36.1388017994083...|       1.0|[0.36138801799408...|\n",
      "| 22|                 0|  0.0|[35.7029337748159...|       1.0|[0.35702933774815...|\n",
      "| 22|                 0|  0.0|[35.5944296768847...|       1.0|[0.35594429676884...|\n",
      "| 22|                 0|  0.0|[35.5944296768847...|       1.0|[0.35594429676884...|\n",
      "| 22|                 0|  0.0|[35.639424214905,...|       1.0|[0.35639424214904...|\n",
      "| 22|                 0|  0.0|[35.9363750557974...|       1.0|[0.35936375055797...|\n",
      "| 22|                 0|  0.0|[36.1809393999013...|       1.0|[0.36180939399901...|\n",
      "| 22|                 0|  0.0|[36.2433595033777...|       1.0|[0.36243359503377...|\n",
      "| 23|                 0|  0.0|[35.4605926233223...|       1.0|[0.35460592623322...|\n",
      "| 24|                 0|  0.0|[36.0645279117950...|       1.0|[0.36064527911795...|\n",
      "| 24|                 0|  0.0|[35.8671511627023...|       1.0|[0.35867151162702...|\n",
      "| 25|                 0|  0.0|[35.5241021832332...|       1.0|[0.35524102183233...|\n",
      "| 25|                 0|  0.0|[35.4155980853020...|       1.0|[0.35415598085302...|\n",
      "| 25|                 0|  0.0|[35.4353973012729...|       1.0|[0.35435397301272...|\n",
      "+---+------------------+-----+--------------------+----------+--------------------+\n",
      "only showing top 20 rows\n",
      "\n"
     ]
    }
   ],
   "source": [
    "from pyspark.ml.classification import RandomForestClassifier\n",
    "\n",
    "# Train a RandomForest model.\n",
    "rf_weight = RandomForestClassifier(labelCol=\"label\", featuresCol=\"features\", numTrees=100, weightCol='weights')\n",
    "\n",
    "rf_model_weight = rf_weight.fit(train)\n",
    "\n",
    "# Make predictions.\n",
    "rf_predictions_weight = rf_model_weight.transform(test)\n",
    "\n",
    "# Select example rows to display.\n",
    "rf_predictions_weight.select('Age', 'Previously_Insured', 'label', 'rawPrediction', 'prediction', 'probability').show()\n"
   ]
  },
  {
   "cell_type": "code",
   "execution_count": 58,
   "metadata": {},
   "outputs": [
    {
     "name": "stdout",
     "output_type": "stream",
     "text": [
      "Test Area Under ROC for the regular classifier : 0.815397548258189\n",
      "Test Area Under ROC for the weight classifier : 0.8376749219944485\n"
     ]
    }
   ],
   "source": [
    "print(\"Test Area Under ROC for the regular classifier : \" + str(evaluator.evaluate(rf_predictions, {evaluator.metricName: \"areaUnderROC\"})))\n",
    "print(\"Test Area Under ROC for the weight classifier : \" + str(evaluator.evaluate(rf_predictions_weight, {evaluator.metricName: \"areaUnderROC\"})))"
   ]
  },
  {
   "cell_type": "code",
   "execution_count": 55,
   "metadata": {},
   "outputs": [
    {
     "data": {
      "text/plain": [
       "(<Figure size 432x288 with 1 Axes>,\n",
       " <AxesSubplot:xlabel='predicted label', ylabel='true label'>)"
      ]
     },
     "execution_count": 55,
     "metadata": {},
     "output_type": "execute_result"
    },
    {
     "data": {
      "image/png": "[encoded data removed]",
      "text/plain": [
       "<Figure size 432x288 with 1 Axes>"
      ]
     },
     "metadata": {
      "needs_background": "light"
     },
     "output_type": "display_data"
    },
    {
     "data": {
      "image/png": "[encoded data removed]",
      "text/plain": [
       "<Figure size 432x288 with 1 Axes>"
      ]
     },
     "metadata": {
      "needs_background": "light"
     },
     "output_type": "display_data"
    }
   ],
   "source": [
    "predictions_pd = rf_predictions.toPandas()\n",
    "predictions_weight_pd = rf_predictions_weight.toPandas()\n",
    "\n",
    "\n",
    "plot_confusion_matrix(confusion_matrix(predictions_pd['label'],predictions_pd['prediction']))\n",
    "\n",
    "plot_confusion_matrix(confusion_matrix(predictions_weight_pd['label'],predictions_weight_pd['prediction']))"
   ]
  },
  {
   "cell_type": "markdown",
   "metadata": {},
   "source": [
    "The confusion matrix of the regular model is quiet interesting, cause it got a good area under the roc, but he classify all the input in the same label. Which the main problem of imbalanced data. That's why, it is always interesting to have look to the data and try differents metrics, in order to find the solution that fit the best our purpose."
   ]
  },
  {
   "cell_type": "markdown",
   "metadata": {},
   "source": [
    "### Optimisation using cross validation "
   ]
  },
  {
   "cell_type": "code",
   "execution_count": 53,
   "metadata": {},
   "outputs": [
    {
     "name": "stdout",
     "output_type": "stream",
     "text": [
      "Test Area Under ROC: 0.8479879947437587\n"
     ]
    }
   ],
   "source": [
    "from pyspark.ml.tuning import ParamGridBuilder, CrossValidator\n",
    "\n",
    "paramGrid = (ParamGridBuilder()\n",
    "             .addGrid(rf_weight.impurity, ['gini','entropy'])\n",
    "             .addGrid(rf_weight.maxDepth, [5, 10, 15])\n",
    "             .addGrid(rf_weight.numTrees, [20, 100, 200])\n",
    "            ).build()\n",
    "\n",
    "\n",
    "cv = CrossValidator(estimator=rf_weight, estimatorParamMaps=paramGrid, evaluator=evaluator, numFolds=5)\n",
    "cvmodel = cv.fit(train)\n",
    "pred = cvmodel.transform(test)\n",
    "\n",
    "print(\"Test Area Under ROC: \" + str(evaluator.evaluate(pred, {evaluator.metricName: \"areaUnderROC\"})))"
   ]
  },
  {
   "cell_type": "code",
   "execution_count": 54,
   "metadata": {},
   "outputs": [
    {
     "data": {
      "text/plain": [
       "(<Figure size 432x288 with 1 Axes>,\n",
       " <AxesSubplot:xlabel='predicted label', ylabel='true label'>)"
      ]
     },
     "execution_count": 54,
     "metadata": {},
     "output_type": "execute_result"
    },
    {
     "data": {
      "image/png": "[encoded data removed]",
      "text/plain": [
       "<Figure size 432x288 with 1 Axes>"
      ]
     },
     "metadata": {
      "needs_background": "light"
     },
     "output_type": "display_data"
    }
   ],
   "source": [
    "predictions_pd = pred.toPandas()\n",
    "plot_confusion_matrix(confusion_matrix(predictions_pd['label'],predictions_pd['prediction']))"
   ]
  },
  {
   "cell_type": "markdown",
   "metadata": {},
   "source": [
    "### CONCLUSION : \n",
    "\n",
    "According to the cross-validation, the classifier that offer the best trade-off between true-positif and true-negatif is the Random Forest classifier."
   ]
  }
 ],
 "metadata": {
  "kernelspec": {
   "display_name": "Python 3",
   "language": "python",
   "name": "python3"
  },
  "language_info": {
   "codemirror_mode": {
    "name": "ipython",
    "version": 3
   },
   "file_extension": ".py",
   "mimetype": "text/x-python",
   "name": "python",
   "nbconvert_exporter": "python",
   "pygments_lexer": "ipython3",
   "version": "3.8.5"
  }
 },
 "nbformat": 4,
 "nbformat_minor": 4
}
